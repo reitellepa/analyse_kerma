{
 "cells": [
  {
   "cell_type": "markdown",
   "id": "respected-muscle",
   "metadata": {},
   "source": [
    "# Cartographie des tombes de Kerma\n",
    "\n",
    "\n",
    "Les points à remarquer:\n",
    "* la part importante prise par le nettoyage des données (le codage présuppose un modèle)\n",
    "* les choix de la visualisation (le modèle produit par le logiciel de SIG)\n",
    "\n",
    "\n",
    "Les Systèmes d'Information Géographique (SIG):\n",
    "* [Système d'information géographique](https://fr.wikipedia.org/wiki/Syst%C3%A8me_d%27information_g%C3%A9ographique) (Wikipedia)\n",
    "* [Qu'est-ce qu'un SIG ?](https://www.unil.ch/gis/home/menuinst/introduction/quest-ce-quun-sig.html) (UNIL)\n",
    "* [Géoïde](https://fr.wikipedia.org/wiki/G%C3%A9o%C3%AFde) : la terre n'est pas sphérique\n",
    "* [WGS84](https://fr.wikipedia.org/wiki/WGS_84) : le système de coordonnées géographiques actuellement uilisé"
   ]
  },
  {
   "cell_type": "code",
   "execution_count": null,
   "id": "center-discretion",
   "metadata": {},
   "outputs": [],
   "source": []
  },
  {
   "cell_type": "code",
   "execution_count": 1,
   "id": "outdoor-oxide",
   "metadata": {},
   "outputs": [],
   "source": [
    "from SPARQLWrapper import SPARQLWrapper, SPARQLWrapper2, JSON, TURTLE, XML, RDFXML\n",
    "import pandas as pd\n",
    "import matplotlib.pyplot as plt\n",
    "import numpy as np"
   ]
  },
  {
   "cell_type": "code",
   "execution_count": 2,
   "id": "serial-detroit",
   "metadata": {},
   "outputs": [],
   "source": [
    "import pprint\n",
    "import csv\n",
    "import ast\n",
    "import re\n",
    "\n",
    "from collections import Counter\n",
    "from operator import itemgetter\n",
    "\n",
    "import sqlite3 as sql\n",
    "import time\n",
    "\n",
    "from importlib import reload\n",
    "from shutil import copyfile\n",
    "\n",
    "import math"
   ]
  },
  {
   "cell_type": "code",
   "execution_count": 3,
   "id": "difficult-familiar",
   "metadata": {},
   "outputs": [],
   "source": [
    "### Instructions pour l'installation dans JupyterLab : \n",
    "# https://ipywidgets.readthedocs.io/en/latest/user_install.html#installing-in-jupyterlab-3-0\n",
    "# Utiliser idéalement JupyterLab 3.0\n",
    "\n",
    "from ipywidgets import (\n",
    "    interact, IntSlider, Checkbox,\n",
    "    interactive, SelectMultiple,\n",
    "    SelectionRangeSlider, Layout,\n",
    "    jslink, fixed,\n",
    "    HTML, HBox)"
   ]
  },
  {
   "cell_type": "code",
   "execution_count": 4,
   "id": "enormous-assignment",
   "metadata": {},
   "outputs": [],
   "source": [
    "from ipyleaflet import (Map,\n",
    "                        Marker,\n",
    "                        basemap_to_tiles,\n",
    "                        basemaps,\n",
    "                        CircleMarker,\n",
    "                        MarkerCluster,\n",
    "                        LayerGroup, \n",
    "                        LayersControl,\n",
    "                        WidgetControl,\n",
    "                        Popup,\n",
    "                        ScaleControl,\n",
    "                        projections\n",
    "                       )"
   ]
  },
  {
   "cell_type": "code",
   "execution_count": 5,
   "id": "needed-lease",
   "metadata": {},
   "outputs": [],
   "source": [
    "### Importer un module de fonctions crée ad hoc\n",
    "## ATTENTION : le fichier 'sparql_functions.py' doit se trouver \n",
    "#   dans le même dossier que le présent carnet Jupyter afin que l'importation\n",
    "#   fonctionne correctement\n",
    "import sparql_functions as spqf"
   ]
  },
  {
   "cell_type": "code",
   "execution_count": 7,
   "id": "apparent-sugar",
   "metadata": {},
   "outputs": [
    {
     "data": {
      "text/plain": [
       "<module 'sparql_functions' from '/Volumes/Patientia/python_notebooks/sciences_historiques_numeriques/histoire_numerique/sparql/sparql_functions.py'>"
      ]
     },
     "execution_count": 7,
     "metadata": {},
     "output_type": "execute_result"
    }
   ],
   "source": [
    "### Recharger le module après modification des fonctions dans le fichier du module\n",
    "# désactivé #  reload(spqf)"
   ]
  },
  {
   "cell_type": "markdown",
   "id": "worthy-effect",
   "metadata": {},
   "source": [
    "## Base de données"
   ]
  },
  {
   "cell_type": "code",
   "execution_count": 6,
   "id": "differential-taiwan",
   "metadata": {},
   "outputs": [],
   "source": [
    "### Définir les adresses des fichiers, l'existant et celui à créer\n",
    "db = 'data/KERMA_CE_copie.sqlite'"
   ]
  },
  {
   "cell_type": "code",
   "execution_count": 8,
   "id": "norman-heating",
   "metadata": {},
   "outputs": [
    {
     "data": {
      "text/plain": [
       "'20210519_205513'"
      ]
     },
     "execution_count": 8,
     "metadata": {},
     "output_type": "execute_result"
    }
   ],
   "source": [
    "### Fonction qui récupère et met en forme le temps au moment de l'exécution\n",
    "\n",
    "# définition\n",
    "def timestamp_formatted_for_file_name():\n",
    "    is_now = time.strftime('%Y%m%d_%H%M%S')\n",
    "    return is_now\n",
    "\n",
    "# exécution\n",
    "timestamp_formatted_for_file_name()"
   ]
  },
  {
   "cell_type": "code",
   "execution_count": 9,
   "id": "simplified-brazilian",
   "metadata": {},
   "outputs": [],
   "source": [
    "##  Noter que la différence de suffixe, en soi totalement arbitraire, \n",
    "#  dépend du fait que dans la configuration de .gitignore, .sqlite est exclu du verisonnement GIT\n",
    "#  contrairement à .db qui est versionné\n",
    "timestamped_db_copy = 'data/sparql_queries_' + timestamp_formatted_for_file_name() + '.sqlite'"
   ]
  },
  {
   "cell_type": "code",
   "execution_count": 10,
   "id": "compatible-deviation",
   "metadata": {},
   "outputs": [
    {
     "data": {
      "text/plain": [
       "'data/sparql_queries_20210519_103510.sqlite'"
      ]
     },
     "execution_count": 10,
     "metadata": {},
     "output_type": "execute_result"
    }
   ],
   "source": [
    "### Créer une copie de sauvegarde avec timestamp du fichier (versionnement manuel)\n",
    "# ATTENTION : la base de données doit exister à l'endroit indiqué !\n",
    "## Cette requête n'est utile que si des modifications en écriture vont être apportées à la base de données,\n",
    "# afint de préserver le dernier état avant modification\n",
    "\n",
    "## Documentation:\n",
    "# https://docs.python.org/3/library/shutil.htmlcopied_db = copyfile(original_db, timestamped_db_copy)\n",
    "\n",
    "copied_db = copyfile(db, timestamped_db_copy)\n",
    "copied_db"
   ]
  },
  {
   "cell_type": "markdown",
   "id": "settled-promise",
   "metadata": {},
   "source": [
    "###Insertion des coordonnées dans la BDD\n",
    "\n"
   ]
  },
  {
   "cell_type": "code",
   "execution_count": 8,
   "id": "rural-defensive",
   "metadata": {},
   "outputs": [],
   "source": [
    "### Définir les adresses des fichiers, l'existant et celui à créer\n",
    "db = 'data/KERMA_CE_copie.db'"
   ]
  },
  {
   "cell_type": "code",
   "execution_count": 12,
   "id": "f4ce9ec7-1821-48b9-bedb-c3a79193e4b1",
   "metadata": {},
   "outputs": [],
   "source": [
    "#ajout de colonnes à la base de données\n",
    "#vu sur https://moonbooks.org/Articles/Ajouter-une-colonne-%C3%A0-une-table-existante-avec-sqlite-et-python/\n",
    "\n",
    "cn = sql.connect(db)\n",
    "c = cn.cursor()\n",
    "c.execute('ALTER TABLE T_Tombes ADD COLUMN Coord_X INTEGER')\n",
    "c.execute('ALTER TABLE T_Tombes ADD COLUMN Coord_Y INTEGER')\n",
    "cn.close()\n"
   ]
  },
  {
   "cell_type": "code",
   "execution_count": 7,
   "id": "b4fc608f-48e6-42aa-b1b6-a05f029ff9c7",
   "metadata": {},
   "outputs": [],
   "source": [
    "#lire une feuille excel et en extraire les données\n",
    "#wb = pd.read_excel('CPS\\CPS.xlsx',sheet_name = None)\n",
    "## écrire le résultat puis l'ouvrir dans Calc ou Excel afin d'effectuer le codage\n",
    "file= 'data/Tombes_Coord.csv'\n",
    "file_cont = []\n",
    "with open(file, newline='') as csvfile:\n",
    "    read = csv.reader(csvfile, delimiter=';', quotechar='\"')\n",
    "    for row in read:\n",
    "        file_cont.append(row)"
   ]
  },
  {
   "cell_type": "code",
   "execution_count": 8,
   "id": "2eb4dc61-0897-49e6-97a7-75ccba1f38a4",
   "metadata": {},
   "outputs": [
    {
     "name": "stdout",
     "output_type": "stream",
     "text": [
      "733\n",
      "7 30.4441013 19.61509519\n"
     ]
    }
   ],
   "source": [
    "print(len(file_cont))\n",
    "file_cont[0]\n",
    "#la colonne IDTombe a la position 10, point_X la 18 et point_y la 19\n",
    "print(file_cont[5][10],file_cont[5][18],file_cont[5][19])\n",
    "type(file_cont[5][18])\n",
    "#les coordonnées sont de type string, j'imagine que pour faire des carte il est bien de les convertir en float\n",
    "x=float(file_cont[5][18])\n",
    "y=float(file_cont[5][19])"
   ]
  },
  {
   "cell_type": "code",
   "execution_count": 9,
   "id": "fdb93c27-b8c8-42f1-b968-6b58c427c94c",
   "metadata": {},
   "outputs": [
    {
     "data": {
      "text/plain": [
       "('7', '30.4441013', '19.61509519')"
      ]
     },
     "execution_count": 9,
     "metadata": {},
     "output_type": "execute_result"
    }
   ],
   "source": [
    "#création d'une liste comprenant les IDTOMBES avec leurs coordonnées\n",
    "tcoord=[]\n",
    "for i in range (0, len(file_cont)):\n",
    "    tombe=(file_cont[i][10],file_cont[i][18],file_cont[i][19])\n",
    "    tcoord.append(tombe)\n",
    "tcoord[5]"
   ]
  },
  {
   "cell_type": "code",
   "execution_count": 10,
   "id": "c0181a93-c8b7-4d81-a3dc-19c27ad083da",
   "metadata": {},
   "outputs": [
    {
     "data": {
      "text/html": [
       "<div>\n",
       "<style scoped>\n",
       "    .dataframe tbody tr th:only-of-type {\n",
       "        vertical-align: middle;\n",
       "    }\n",
       "\n",
       "    .dataframe tbody tr th {\n",
       "        vertical-align: top;\n",
       "    }\n",
       "\n",
       "    .dataframe thead th {\n",
       "        text-align: right;\n",
       "    }\n",
       "</style>\n",
       "<table border=\"1\" class=\"dataframe\">\n",
       "  <thead>\n",
       "    <tr style=\"text-align: right;\">\n",
       "      <th></th>\n",
       "      <th>IDTombe</th>\n",
       "      <th>POINT_X</th>\n",
       "      <th>POINT_Y</th>\n",
       "    </tr>\n",
       "  </thead>\n",
       "  <tbody>\n",
       "    <tr>\n",
       "      <th>0</th>\n",
       "      <td>3</td>\n",
       "      <td>30.44414317</td>\n",
       "      <td>19.61528858</td>\n",
       "    </tr>\n",
       "    <tr>\n",
       "      <th>1</th>\n",
       "      <td>4</td>\n",
       "      <td>30.44411848</td>\n",
       "      <td>19.61513045</td>\n",
       "    </tr>\n",
       "    <tr>\n",
       "      <th>2</th>\n",
       "      <td>5</td>\n",
       "      <td>30.44414632</td>\n",
       "      <td>19.61498164</td>\n",
       "    </tr>\n",
       "    <tr>\n",
       "      <th>3</th>\n",
       "      <td>6</td>\n",
       "      <td>30.44413629</td>\n",
       "      <td>19.61510432</td>\n",
       "    </tr>\n",
       "    <tr>\n",
       "      <th>4</th>\n",
       "      <td>7</td>\n",
       "      <td>30.4441013</td>\n",
       "      <td>19.61509519</td>\n",
       "    </tr>\n",
       "  </tbody>\n",
       "</table>\n",
       "</div>"
      ],
      "text/plain": [
       "  IDTombe      POINT_X      POINT_Y\n",
       "0       3  30.44414317  19.61528858\n",
       "1       4  30.44411848  19.61513045\n",
       "2       5  30.44414632  19.61498164\n",
       "3       6  30.44413629  19.61510432\n",
       "4       7   30.4441013  19.61509519"
      ]
     },
     "execution_count": 10,
     "metadata": {},
     "output_type": "execute_result"
    }
   ],
   "source": [
    "#Affichage joli\n",
    "tombes = pd.DataFrame(tcoord[1:], columns = tcoord[0])\n",
    "tombes.head()"
   ]
  },
  {
   "cell_type": "code",
   "execution_count": 14,
   "id": "17e65389-b453-4361-9008-299708966821",
   "metadata": {},
   "outputs": [
    {
     "data": {
      "text/plain": [
       "732"
      ]
     },
     "execution_count": 14,
     "metadata": {},
     "output_type": "execute_result"
    }
   ],
   "source": [
    "len(tcoord)-1"
   ]
  },
  {
   "cell_type": "code",
   "execution_count": 15,
   "id": "702f9441-18e8-4e25-b263-bc32deeecc66",
   "metadata": {},
   "outputs": [],
   "source": [
    "#Faire une boucle pour attribuer ces valeurs aux tombes appropriées\n",
    "# connnexion à la base de données\n",
    "db = 'data/KERMA_CE_copie.sqlite'\n",
    "conn = sql.connect(db)\n",
    "c = conn.cursor()\n",
    "\n",
    "#Boucle qui commence à 1 car la ligne 0 contient les entêtes\n",
    "for i in range (1, 732):\n",
    "    idtombe=tcoord[i][0]\n",
    "    x=tcoord[i][1]\n",
    "    y=tcoord[i][2]\n",
    "\n",
    "    tex=(\"UPDATE T_Tombes SET Coord_X =\"+x+\" WHERE IDTombe =\"+str(idtombe))\n",
    "    tey=(\"UPDATE T_Tombes SET Coord_Y =\"+y+\" WHERE IDTombe =\"+str(idtombe))\n",
    "    c.execute(tex)\n",
    "    c.execute(tey)\n",
    "\n",
    "#Tentative infructueuses tant que j'avais oublié les \"()\" après le commit, je trouve dommage de les jeter\n",
    "#    tex=(\"UPDATE T_Tombes SET Coord_X =\"+str(x)\" WHERE IDTombe =\"+str(idtombe))\n",
    "#    tey=(\"UPDATE T_Tombes SET Coord_Y =\"+str(y)\" WHERE IDTombe =\"+str(idtombe))\n",
    "#    query_update_rowx = \"UPDATE T_Tombes SET Coord_X =:x WHERE IDTombe = :idtombe\"\n",
    "#    query_update_rowy = \"UPDATE T_Tombes SET Coord_Y=:y WHERE IDTombe = :idtombe\"\n",
    "#    c.execute(query_update_rowx, {x: x, idtombe: idtombe})\n",
    "#    c.execute(query_update_rowy, {y: y, idtombe: idtombe})\n",
    "    \n",
    "#    c.execute(query_update_rowx, {tcoord[i][1]: x, tcoord[i][0]: idtombe})\n",
    "#    c.execute(query_update_rowy, {tcoord[i][2]: y, tcoord[i][0]: idtombe})\n",
    "#!!!!!!!!mis en commentaire pour éviter que ça réaffecte la base de données!!!!!#     conn.commit()\n",
    "#fermer la connexion\n",
    "conn.close()\n"
   ]
  },
  {
   "cell_type": "markdown",
   "id": "9797a5be-c780-46fd-bd11-a45cf1b35620",
   "metadata": {},
   "source": [
    "### extraire des données de la BDD"
   ]
  },
  {
   "cell_type": "code",
   "execution_count": 11,
   "id": "legal-chicago",
   "metadata": {},
   "outputs": [],
   "source": [
    "### Liste des tombes avec coordonnées géographiques\n",
    "lieux = \"\"\"SELECT IDTombe, Coord_X, Coord_Y\n",
    "FROM T_Tombes \n",
    "\"\"\""
   ]
  },
  {
   "cell_type": "code",
   "execution_count": 14,
   "id": "iraqi-integration",
   "metadata": {},
   "outputs": [],
   "source": [
    "### Liste complete: personne, lieu, type, coordonnées géo\n",
    "personnes_lieux_naissance = \"\"\"\n",
    "SELECT e.uri_entity, \n",
    "p4.value birth_year,\n",
    " REPLACE(REPLACE(p.value, 'http://dbpedia.org/resource/', ''), '_', ' ') place_name, \n",
    "REPLACE(p3.value, 'http://dbpedia.org/ontology/', '') place_type, \n",
    "p1.value longitude, p2.value latitude\n",
    "FROM entity e \n",
    "  LEFT JOIN property p ON p.uri_entity = e.uri_entity AND p.property LIKE '%BirthPlace%'\n",
    "  LEFT JOIN property p1 ON p1.uri_entity = p.value AND p1.property LIKE '%long'\n",
    "  LEFT JOIN property p2 ON p2.uri_entity = p.value AND p2.property LIKE '%lat'\n",
    "  LEFT JOIN property p3 ON p3.uri_entity = p.value AND p3.property LIKE '%type%'\n",
    "  LEFT JOIN property p4 ON p4.uri_entity = e.uri_entity AND p4.property LIKE '%irthYe%' AND p4.\"source\" LIKE '%8 mai 2021%'\n",
    "WHERE e.entity_class = 'https://dbpedia.org/ontology/Person'\n",
    "AND longitude IS NOT NULL;\n",
    "\"\"\""
   ]
  },
  {
   "cell_type": "code",
   "execution_count": 12,
   "id": "honest-firewall",
   "metadata": {
    "scrolled": true,
    "tags": []
   },
   "outputs": [
    {
     "name": "stdout",
     "output_type": "stream",
     "text": [
      "732\n"
     ]
    },
    {
     "data": {
      "text/plain": [
       "[(3, 30.44414317, 19.61528858),\n",
       " (4, 30.44411848, 19.61513045),\n",
       " (5, 30.44414632, 19.61498164),\n",
       " (6, 30.44413629, 19.61510432)]"
      ]
     },
     "execution_count": 12,
     "metadata": {},
     "output_type": "execute_result"
    }
   ],
   "source": [
    "# connnexion à la base de données\n",
    "cn = sql.connect(db)\n",
    "c = cn.cursor()\n",
    "\n",
    "### exécuter la requëte sur la base de donées SQLite pour récupérer les valeurs que contient la ligne\n",
    "# attention au nom de la requête !\n",
    "c.execute(lieux)\n",
    "result_q = []\n",
    "result_q = c.fetchall()\n",
    "\n",
    "# fermer la connexion\n",
    "cn.close()\n",
    "print(len(result_q))\n",
    "result_q[:4]"
   ]
  },
  {
   "cell_type": "code",
   "execution_count": 13,
   "id": "sexual-reflection",
   "metadata": {},
   "outputs": [
    {
     "data": {
      "text/html": [
       "<div>\n",
       "<style scoped>\n",
       "    .dataframe tbody tr th:only-of-type {\n",
       "        vertical-align: middle;\n",
       "    }\n",
       "\n",
       "    .dataframe tbody tr th {\n",
       "        vertical-align: top;\n",
       "    }\n",
       "\n",
       "    .dataframe thead th {\n",
       "        text-align: right;\n",
       "    }\n",
       "</style>\n",
       "<table border=\"1\" class=\"dataframe\">\n",
       "  <thead>\n",
       "    <tr style=\"text-align: right;\">\n",
       "      <th></th>\n",
       "      <th>IDTombe</th>\n",
       "      <th>POINT_X</th>\n",
       "      <th>POINT_Y</th>\n",
       "    </tr>\n",
       "  </thead>\n",
       "  <tbody>\n",
       "    <tr>\n",
       "      <th>0</th>\n",
       "      <td>3</td>\n",
       "      <td>30.444143</td>\n",
       "      <td>19.615289</td>\n",
       "    </tr>\n",
       "    <tr>\n",
       "      <th>1</th>\n",
       "      <td>4</td>\n",
       "      <td>30.444118</td>\n",
       "      <td>19.615130</td>\n",
       "    </tr>\n",
       "    <tr>\n",
       "      <th>2</th>\n",
       "      <td>5</td>\n",
       "      <td>30.444146</td>\n",
       "      <td>19.614982</td>\n",
       "    </tr>\n",
       "    <tr>\n",
       "      <th>3</th>\n",
       "      <td>6</td>\n",
       "      <td>30.444136</td>\n",
       "      <td>19.615104</td>\n",
       "    </tr>\n",
       "    <tr>\n",
       "      <th>4</th>\n",
       "      <td>7</td>\n",
       "      <td>30.444101</td>\n",
       "      <td>19.615095</td>\n",
       "    </tr>\n",
       "  </tbody>\n",
       "</table>\n",
       "</div>"
      ],
      "text/plain": [
       "   IDTombe    POINT_X    POINT_Y\n",
       "0        3  30.444143  19.615289\n",
       "1        4  30.444118  19.615130\n",
       "2        5  30.444146  19.614982\n",
       "3        6  30.444136  19.615104\n",
       "4        7  30.444101  19.615095"
      ]
     },
     "execution_count": 13,
     "metadata": {},
     "output_type": "execute_result"
    }
   ],
   "source": [
    "tombes = pd.DataFrame(result_q, columns =tcoord[0])\n",
    "tombes.head()"
   ]
  },
  {
   "cell_type": "markdown",
   "id": "altered-concert",
   "metadata": {},
   "source": [
    "### Produire les données à projeter sur une carte"
   ]
  },
  {
   "cell_type": "markdown",
   "id": "narrow-young",
   "metadata": {},
   "source": [
    "### Données à cartographier concernant les Universités"
   ]
  },
  {
   "cell_type": "code",
   "execution_count": 14,
   "id": "electoral-teens",
   "metadata": {},
   "outputs": [],
   "source": [
    "tombes.to_csv('maps/tombes.csv', sep=';')"
   ]
  },
  {
   "cell_type": "code",
   "execution_count": 15,
   "id": "finite-league",
   "metadata": {},
   "outputs": [
    {
     "data": {
      "text/html": [
       "<div>\n",
       "<style scoped>\n",
       "    .dataframe tbody tr th:only-of-type {\n",
       "        vertical-align: middle;\n",
       "    }\n",
       "\n",
       "    .dataframe tbody tr th {\n",
       "        vertical-align: top;\n",
       "    }\n",
       "\n",
       "    .dataframe thead th {\n",
       "        text-align: right;\n",
       "    }\n",
       "</style>\n",
       "<table border=\"1\" class=\"dataframe\">\n",
       "  <thead>\n",
       "    <tr style=\"text-align: right;\">\n",
       "      <th></th>\n",
       "      <th>IDTombe</th>\n",
       "      <th>POINT_X</th>\n",
       "      <th>POINT_Y</th>\n",
       "    </tr>\n",
       "  </thead>\n",
       "  <tbody>\n",
       "    <tr>\n",
       "      <th>0</th>\n",
       "      <td>3</td>\n",
       "      <td>30.444143</td>\n",
       "      <td>19.615289</td>\n",
       "    </tr>\n",
       "    <tr>\n",
       "      <th>1</th>\n",
       "      <td>4</td>\n",
       "      <td>30.444118</td>\n",
       "      <td>19.615130</td>\n",
       "    </tr>\n",
       "    <tr>\n",
       "      <th>2</th>\n",
       "      <td>5</td>\n",
       "      <td>30.444146</td>\n",
       "      <td>19.614982</td>\n",
       "    </tr>\n",
       "    <tr>\n",
       "      <th>3</th>\n",
       "      <td>6</td>\n",
       "      <td>30.444136</td>\n",
       "      <td>19.615104</td>\n",
       "    </tr>\n",
       "    <tr>\n",
       "      <th>4</th>\n",
       "      <td>7</td>\n",
       "      <td>30.444101</td>\n",
       "      <td>19.615095</td>\n",
       "    </tr>\n",
       "  </tbody>\n",
       "</table>\n",
       "</div>"
      ],
      "text/plain": [
       "   IDTombe    POINT_X    POINT_Y\n",
       "0        3  30.444143  19.615289\n",
       "1        4  30.444118  19.615130\n",
       "2        5  30.444146  19.614982\n",
       "3        6  30.444136  19.615104\n",
       "4        7  30.444101  19.615095"
      ]
     },
     "execution_count": 15,
     "metadata": {},
     "output_type": "execute_result"
    }
   ],
   "source": [
    "### Importer le CSV et mettre son contenu dans la variable 'place_count' \n",
    "# au cas où on ne souhaite pas répéter toutes les opérations précédentes\n",
    "tb = pd.read_csv('maps/tombes.csv', sep=';', index_col=[0])\n",
    "tb.head()"
   ]
  },
  {
   "cell_type": "markdown",
   "id": "future-walnut",
   "metadata": {},
   "source": [
    "# Créer une carte\n",
    "\n",
    "\n",
    "\n",
    "Nous utilisons ici la librairie __[ipyleaflet](https://ipyleaflet.readthedocs.io/en/latest/): Interactive maps in the Jupyter notebook__\n",
    "* Installation : [JupyterLab extension](https://ipyleaflet.readthedocs.io/en/latest/installation.html#jupyterlab-extension)\n",
    "\n",
    "\n",
    "D'autres librairies existent telles que Folium, [GeoPandas](https://geopandas.org/), etc.\n",
    "\n",
    "\n",
    "\n",
    "Voir le tutoriel de [Programming Historian](https://programminghistorian.org/en/lessons/mapping-with-python-leaflet) à ce sujet"
   ]
  },
  {
   "cell_type": "markdown",
   "id": "reliable-cheat",
   "metadata": {},
   "source": [
    "## Choisir d'abord un fonds de carte adapté"
   ]
  },
  {
   "cell_type": "code",
   "execution_count": 18,
   "id": "dd8a60e5-a2c5-4781-8fbc-776090487c0e",
   "metadata": {},
   "outputs": [],
   "source": [
    "#importer librairie pour pouvoir choisir le système de coordonnées\n",
    "import pyproj"
   ]
  },
  {
   "cell_type": "code",
   "execution_count": 26,
   "id": "complimentary-hollow",
   "metadata": {},
   "outputs": [],
   "source": [
    "## trois exemples sont proposés ici, bien d'autres existent\n",
    "\n",
    "watercolor = basemap_to_tiles(basemaps.Stamen.Watercolor)\n",
    "esri_sat = basemap_to_tiles(basemaps.Esri.WorldImagery)\n",
    "open_street_map = basemap_to_tiles(basemaps.OpenStreetMap.Mapnik)\n",
    "#J'attribue plusieurs projection, au cas où. Source: https://all-geo.org/volcan01010/2012/11/change-coordinates-with-pyproj/\n",
    "wgs84=projections.EPSG4326 # LatLon with WGS84 datum used by GPS units and Google Earth \n",
    "osgb36=pyproj.CRS(\"EPSG:27700\") # UK Ordnance Survey, 1936 datum \n",
    "UTM26N=pyproj.CRS(\"EPSG:32626\") # UTM coords, zone 26N, WGS84 datum \n",
    "UTM27N=pyproj.CRS(\"EPSG:32627\") # UTM coords, zone 27N, WGS84 datum \n"
   ]
  },
  {
   "cell_type": "code",
   "execution_count": 20,
   "id": "d1b1bfe8-8606-4e32-8c76-83a2a016eff3",
   "metadata": {},
   "outputs": [
    {
     "data": {
      "application/vnd.jupyter.widget-view+json": {
       "model_id": "973c94f709a24aea87246eed9f13d855",
       "version_major": 2,
       "version_minor": 0
      },
      "text/plain": [
       "Map(center=[19.641818429971575, 30.41728879519245], controls=(ZoomControl(options=['position', 'zoom_in_text',…"
      ]
     },
     "metadata": {},
     "output_type": "display_data"
    }
   ],
   "source": [
    "## https://ipywidgets.readthedocs.io/en/latest/examples/Widget%20Styling.html\n",
    "m1 = Map(basemap=(esri_sat), center=(19.641818429971575, 30.41728879519245), layout=Layout(width='100%', height='600px'),\\\n",
    "        zoom_control=True  , zoom=4 #, scroll_wheel_zoom=True\n",
    "       )\n",
    "\n",
    "control = LayersControl(name='layCont', position='topright')\n",
    "m1.add_control(control)\n",
    "\n",
    "m1.add_control(ScaleControl(position='topleft'))\n",
    "\n",
    "m1\n"
   ]
  },
  {
   "cell_type": "code",
   "execution_count": 66,
   "id": "eec6d5c8-4cf5-499e-8746-6801cb09b2b2",
   "metadata": {},
   "outputs": [
    {
     "name": "stdout",
     "output_type": "stream",
     "text": [
      "[Marker(location=[19.641818429971575, 30.41728879519245], options=['alt', 'draggable', 'keyboard', 'rise_offset', 'rise_on_hover', 'rotation_angle', 'rotation_origin', 'title', 'z_index_offset'], title='truf'), Marker(location=[19.6418184299717, 30.417288795193], options=['alt', 'draggable', 'keyboard', 'rise_offset', 'rise_on_hover', 'rotation_angle', 'rotation_origin', 'title', 'z_index_offset'], title='furt')]\n"
     ]
    }
   ],
   "source": [
    "#Test pour voir comment fonctionne l'ajout de Markers\n",
    "markers = []\n",
    "\n",
    "# lg1 = LayerGroup(name='Birth places ' + name_part, layers=(markers))\n",
    "tomb=Marker(location=(19.641818429971575, 30.41728879519245), title=\"truf\")\n",
    "markers.append(tomb)\n",
    "mark=Marker(location=(19.641818429971700, 30.41728879519300), title=\"furt\")\n",
    "markers.append(mark)\n",
    "lg1 = MarkerCluster(name='Tombes', markers=markers)\n",
    "print(markers)\n",
    "#m1.add_layer(lg1)\n",
    "#m1"
   ]
  },
  {
   "cell_type": "markdown",
   "id": "further-basement",
   "metadata": {},
   "source": [
    "## Affichage de la carte"
   ]
  },
  {
   "cell_type": "code",
   "execution_count": 60,
   "id": "7af3aa6c-270b-42ea-ae27-a34ba2e5f0b9",
   "metadata": {},
   "outputs": [
    {
     "data": {
      "text/plain": [
       "19.61498164"
      ]
     },
     "execution_count": 60,
     "metadata": {},
     "output_type": "execute_result"
    }
   ],
   "source": [
    "#essaie pour comprendre le fonctionnement\n",
    "tb['POINT_Y'][2]"
   ]
  },
  {
   "cell_type": "code",
   "execution_count": 28,
   "id": "a54b845b-6dd5-4b45-97bd-f568ffce3229",
   "metadata": {},
   "outputs": [
    {
     "data": {
      "application/vnd.jupyter.widget-view+json": {
       "model_id": "eb19ef81bf854390ad3aa1ac0770b7d9",
       "version_major": 2,
       "version_minor": 0
      },
      "text/plain": [
       "Map(center=[19.61501654, 30.44412842], controls=(ZoomControl(options=['position', 'zoom_in_text', 'zoom_in_tit…"
      ]
     },
     "metadata": {},
     "output_type": "display_data"
    }
   ],
   "source": [
    "#création du fond de carte\n",
    "## https://ipywidgets.readthedocs.io/en/latest/examples/Widget%20Styling.html\n",
    "m1 = Map(layers=(esri_sat, open_street_map), center=(tb['POINT_Y'][11], tb['POINT_X'][11]), layout=Layout(width='100%', height='600px'),\\\n",
    "        zoom_control=True  , zoom=17 #, scroll_wheel_zoom=True\n",
    "       )\n",
    "\n",
    "control = LayersControl(name='layCont', position='topright')\n",
    "m1.add_control(control)\n",
    "\n",
    "m1.add_control(ScaleControl(position='topleft'))\n",
    "\n",
    "#création de la couche contenant les tombes\n",
    "mark=[]\n",
    "for i in tb.index:\n",
    "    mk=CircleMarker(location=(tb['POINT_Y'][i],tb['POINT_X'][i]), title=(str(tb['IDTombe'][i])), radius=0)\n",
    "    mark.append(mk)\n",
    "#print(mark[:3])\n",
    "lg = LayerGroup(name = 'Tombes', layers = mark)\n",
    "\n",
    "mc = MarkerCluster(markers=(mark[0:731]))\n",
    "m1.add_layer(lg);\n",
    "m1"
   ]
  },
  {
   "cell_type": "markdown",
   "id": "787d74cf-40ad-4775-919d-62f20681a084",
   "metadata": {},
   "source": [
    "C'est dommage, on ne peut pas zoomer assez pour voir les emplacements des tombes. je vais encore effectuer quelques recherches pour vois si c'est possible d'avoir une résolution plus précise"
   ]
  },
  {
   "cell_type": "code",
   "execution_count": null,
   "id": "f170a776-850f-4f4a-aa01-8d7cfcc413c4",
   "metadata": {},
   "outputs": [],
   "source": []
  },
  {
   "cell_type": "code",
   "execution_count": null,
   "id": "06541339-c6d6-4690-9c61-73a48e2a59cc",
   "metadata": {},
   "outputs": [],
   "source": []
  },
  {
   "cell_type": "markdown",
   "id": "allied-fancy",
   "metadata": {},
   "source": [
    "### Ajouter la couche avec les Universités"
   ]
  },
  {
   "cell_type": "code",
   "execution_count": 136,
   "id": "freelance-franchise",
   "metadata": {},
   "outputs": [
    {
     "name": "stdout",
     "output_type": "stream",
     "text": [
      "Markers' number 732\n"
     ]
    }
   ],
   "source": [
    "## Parcourir le DataFrame et extraire les valeurs\n",
    "#  i = index, v = valeur\n",
    "\n",
    "markers = []\n",
    "for i,v in tb.iterrows():\n",
    "    marker = Marker(location=(v['POINT_Y'], v['POINT_X']), draggable=False,\\\n",
    "                    title=  \"tombes\")\n",
    "                    \n",
    "    \n",
    "    markers.append(marker)\n",
    "\n",
    "\n",
    "print(\"Markers' number \" + str(len(markers)))\n",
    "\n",
    "lg2 = MarkerCluster(name='TOMBES2', markers=markers)\n",
    "\n",
    "m1.add_layer(lg2)"
   ]
  },
  {
   "cell_type": "code",
   "execution_count": 167,
   "id": "federal-conducting",
   "metadata": {},
   "outputs": [
    {
     "ename": "ModuleNotFoundError",
     "evalue": "No module named 'basemap'",
     "output_type": "error",
     "traceback": [
      "\u001b[1;31m---------------------------------------------------------------------------\u001b[0m",
      "\u001b[1;31mModuleNotFoundError\u001b[0m                       Traceback (most recent call last)",
      "\u001b[1;32m<ipython-input-167-8b83ecbd13c9>\u001b[0m in \u001b[0;36m<module>\u001b[1;34m\u001b[0m\n\u001b[1;32m----> 1\u001b[1;33m \u001b[1;32mimport\u001b[0m \u001b[0mbasemap\u001b[0m\u001b[1;33m\u001b[0m\u001b[1;33m\u001b[0m\u001b[0m\n\u001b[0m",
      "\u001b[1;31mModuleNotFoundError\u001b[0m: No module named 'basemap'"
     ]
    }
   ],
   "source": []
  },
  {
   "cell_type": "code",
   "execution_count": 175,
   "id": "7d619ac8-41d1-48a6-b305-75db1552a865",
   "metadata": {},
   "outputs": [
    {
     "ename": "AttributeError",
     "evalue": "'Marker' object has no attribute 'add_to'",
     "output_type": "error",
     "traceback": [
      "\u001b[1;31m---------------------------------------------------------------------------\u001b[0m",
      "\u001b[1;31mAttributeError\u001b[0m                            Traceback (most recent call last)",
      "\u001b[1;32m<ipython-input-175-79366e93fc11>\u001b[0m in \u001b[0;36m<module>\u001b[1;34m\u001b[0m\n\u001b[0;32m      3\u001b[0m \u001b[0mm\u001b[0m \u001b[1;33m=\u001b[0m \u001b[0mMap\u001b[0m\u001b[1;33m(\u001b[0m\u001b[0mlayers\u001b[0m\u001b[1;33m=\u001b[0m\u001b[1;33m(\u001b[0m\u001b[0mopen_street_map\u001b[0m\u001b[1;33m,\u001b[0m\u001b[1;33m)\u001b[0m\u001b[1;33m,\u001b[0m \u001b[0mlocation\u001b[0m\u001b[1;33m=\u001b[0m\u001b[1;33m[\u001b[0m\u001b[1;36m19\u001b[0m\u001b[1;33m,\u001b[0m \u001b[1;36m30\u001b[0m\u001b[1;33m]\u001b[0m\u001b[1;33m)\u001b[0m\u001b[1;33m\u001b[0m\u001b[1;33m\u001b[0m\u001b[0m\n\u001b[0;32m      4\u001b[0m \u001b[1;31m# Add marker for Boulder, CO\u001b[0m\u001b[1;33m\u001b[0m\u001b[1;33m\u001b[0m\u001b[1;33m\u001b[0m\u001b[0m\n\u001b[1;32m----> 5\u001b[1;33m Marker(\n\u001b[0m\u001b[0;32m      6\u001b[0m     \u001b[0mlocation\u001b[0m\u001b[1;33m=\u001b[0m\u001b[1;33m[\u001b[0m\u001b[1;36m40.009515\u001b[0m\u001b[1;33m,\u001b[0m \u001b[1;33m-\u001b[0m\u001b[1;36m105.242714\u001b[0m\u001b[1;33m]\u001b[0m\u001b[1;33m,\u001b[0m \u001b[1;31m# coordinates for the marker (Earth Lab at CU Boulder)\u001b[0m\u001b[1;33m\u001b[0m\u001b[1;33m\u001b[0m\u001b[0m\n\u001b[0;32m      7\u001b[0m ).add_to(m)\n",
      "\u001b[1;31mAttributeError\u001b[0m: 'Marker' object has no attribute 'add_to'"
     ]
    }
   ],
   "source": [
    "# Create a map using Stamen Terrain, centered on Boulder, CO\n",
    "open_street_map = basemap_to_tiles(basemaps.OpenStreetMap.Mapnik)\n",
    "m = Map(layers=(open_street_map,), location=[19, 30])\n",
    "# Add marker for Boulder, CO\n",
    "Marker(\n",
    "    location=[40.009515, -105.242714], # coordinates for the marker (Earth Lab at CU Boulder)\n",
    ").add_to(m)\n",
    "\n",
    "# Display m\n",
    "m\n"
   ]
  },
  {
   "cell_type": "code",
   "execution_count": 177,
   "id": "superb-stereo",
   "metadata": {},
   "outputs": [
    {
     "ename": "ModuleNotFoundError",
     "evalue": "No module named 'mpl_toolkits.basemap'",
     "output_type": "error",
     "traceback": [
      "\u001b[1;31m---------------------------------------------------------------------------\u001b[0m",
      "\u001b[1;31mModuleNotFoundError\u001b[0m                       Traceback (most recent call last)",
      "\u001b[1;32m<ipython-input-177-d9467465a3b6>\u001b[0m in \u001b[0;36m<module>\u001b[1;34m\u001b[0m\n\u001b[1;32m----> 1\u001b[1;33m \u001b[1;32mfrom\u001b[0m \u001b[0mmpl_toolkits\u001b[0m\u001b[1;33m.\u001b[0m\u001b[0mbasemap\u001b[0m \u001b[1;32mimport\u001b[0m \u001b[0mBasemap\u001b[0m\u001b[1;33m\u001b[0m\u001b[1;33m\u001b[0m\u001b[0m\n\u001b[0m",
      "\u001b[1;31mModuleNotFoundError\u001b[0m: No module named 'mpl_toolkits.basemap'"
     ]
    }
   ],
   "source": [
    "from mpl_toolkits.basemap import Basemap"
   ]
  },
  {
   "cell_type": "code",
   "execution_count": null,
   "id": "primary-parking",
   "metadata": {},
   "outputs": [],
   "source": []
  },
  {
   "cell_type": "markdown",
   "id": "sublime-shoulder",
   "metadata": {},
   "source": [
    "### Ajouter les couches des Universités par tranches chronologiques"
   ]
  },
  {
   "cell_type": "code",
   "execution_count": 98,
   "id": "wicked-bathroom",
   "metadata": {},
   "outputs": [
    {
     "name": "stdout",
     "output_type": "stream",
     "text": [
      "1771-1861\n",
      "Markers' number 49\n",
      "1861-1901\n",
      "Markers' number 98\n",
      "1901-1921\n",
      "Markers' number 128\n",
      "1921-1941\n",
      "Markers' number 265\n",
      "1941-1951\n",
      "Markers' number 332\n",
      "1951-1961\n",
      "Markers' number 322\n",
      "1961-1971\n",
      "Markers' number 265\n",
      "1971-2001\n",
      "Markers' number 126\n"
     ]
    }
   ],
   "source": [
    "idx = 0\n",
    "for p in liste_periodes:    \n",
    "    markers = []\n",
    "    print(p)\n",
    "    for i,v in gb_periode_uni.iterrows():\n",
    "        if p == v['periode']:\n",
    "            circle = CircleMarker(location=(v['lat'], v['long']), color=col_list[idx], name=f\"{v['university_name']}\", \\\n",
    "                              radius = int(math.log((v['effectif'] + 1) * 3, 2)), weight=1)\n",
    "            # message.value = f\"<h4>{j['place_name']} ({j['count_persons']})</h4>\" + p_elements\n",
    "            # a = HBox([message], layout=Layout(width='200px', height='200px', overflow_y='auto',overflow=\"auto\"))\n",
    "            message = HTML()\n",
    "            message.value = f\"{v['university_name']} ({v['effectif']})\"\n",
    "\n",
    "            a = HBox([message], layout=Layout(width='100px', height='200px', overflow=\"auto\")) # overflow_y='auto',\n",
    "\n",
    "            circle.popup = a\n",
    "        \n",
    "            markers.append(circle)\n",
    "\n",
    "\n",
    "    print(\"Markers' number \" + str(len(markers)))\n",
    "\n",
    "    # lg = MarkerCluster(name='Universités (' + v['periode'] +')', markers=markers)\n",
    "    my_dict[idx] = LayerGroup(name='Universités (' + p +')', layers=(markers))\n",
    "    \n",
    "    m1.add_layer(my_dict[idx])\n",
    "    idx += 1"
   ]
  },
  {
   "cell_type": "markdown",
   "id": "consistent-large",
   "metadata": {
    "tags": []
   },
   "source": [
    "### Enregistrer et afficher la carte au format HTML"
   ]
  },
  {
   "cell_type": "code",
   "execution_count": 161,
   "id": "infrared-token",
   "metadata": {
    "tags": []
   },
   "outputs": [],
   "source": [
    "m1.save('maps/tb.html', title='tombes de la nécropole de Kerma')"
   ]
  },
  {
   "cell_type": "code",
   "execution_count": 162,
   "id": "improving-photograph",
   "metadata": {},
   "outputs": [],
   "source": [
    "from IPython.display import IFrame"
   ]
  },
  {
   "cell_type": "code",
   "execution_count": 165,
   "id": "ancient-hollow",
   "metadata": {},
   "outputs": [
    {
     "data": {
      "text/html": [
       "\n",
       "        <iframe\n",
       "            width=\"90%\"\n",
       "            height=\"600\"\n",
       "            src=\"./maps/tb.html\"\n",
       "            frameborder=\"0\"\n",
       "            allowfullscreen\n",
       "        ></iframe>\n",
       "        "
      ],
      "text/plain": [
       "<IPython.lib.display.IFrame at 0x1c48422f2b0>"
      ]
     },
     "execution_count": 165,
     "metadata": {},
     "output_type": "execute_result"
    }
   ],
   "source": [
    "IFrame(src='./maps/tb.html', width='90%', height=600)"
   ]
  },
  {
   "cell_type": "markdown",
   "id": "three-mechanics",
   "metadata": {},
   "source": [
    "## Créer une carte interactive\n",
    "\n",
    "* La librairie pour les visualisations interactives : __[ipywidgets](https://ipywidgets.readthedocs.io/en/latest/index.html)__\n"
   ]
  },
  {
   "cell_type": "code",
   "execution_count": 51,
   "id": "breeding-component",
   "metadata": {},
   "outputs": [],
   "source": [
    "def update_layer(m, begin_end, color):\n",
    "    \n",
    "    # [m.remove_layer(n) for n in m.layers if n.name in ['Clusters', 'Flat locs']]\n",
    "    \n",
    "    [m.remove_control(n) for n in m.controls if 'LayersControl' in str(type(n)) ]\n",
    "    \n",
    "    ## zoom ne marche pas \n",
    "    print(m.zoom)    \n",
    "    begin = begin_end[0]\n",
    "    end = begin_end[1]\n",
    "    x = df_lnu[(df_lnu['birth_year'] >= begin) \\\n",
    "                  & (df_lnu['birth_year'] <= end)]   # .astype(int)\n",
    "    xgb = x.groupby(['place_name', 'place_type', 'long', 'lat'], as_index=False) \\\n",
    "      .agg({'concat_person': '##'.join, 'uri_entity': 'count'})\n",
    "    place_count = xgb.rename(columns={'uri_entity': 'count_persons'})\n",
    "\n",
    "\n",
    "    markers = []\n",
    "    popups = []\n",
    "    \n",
    "\n",
    "    ## Extraire les lignes du DataFrame\n",
    "    for i,j in place_count.iterrows():\n",
    "        message = HTML()\n",
    "        p_elements = ''\n",
    "        for z in j['concat_person'].split('##'):\n",
    "            if '|' in z:\n",
    "                zs = z.split('|')\n",
    "                p_elements += f\"\"\"<a href=\"{zs[0]}\" target=\"_blank\">{zs[1]}</a><br/>\"\"\"\n",
    "            else:\n",
    "                p_elements = ''\n",
    "\n",
    "        message.value = f\"<h4>{j['place_name']} ({j['count_persons']})</h4>\" + p_elements\n",
    "        a = HBox([message], layout=Layout(width='200px', height='200px', overflow_y='auto',overflow=\"auto\"))\n",
    "\n",
    "\n",
    "        circle = CircleMarker(location=(j['lat'], j['long']), color=\"black\", name=f\"{j['place_name']}\", \\\n",
    "                              fill_color=color, radius = int(math.log((j['count_persons'] + 1) * m.zoom * 2,  2)), weight=1)\n",
    "\n",
    "        circle.popup = a\n",
    "        \n",
    "        markers.append(circle)\n",
    "\n",
    "\n",
    "    print(\"Markers' number \" + str(len(markers)))\n",
    "    \n",
    "    name_part = str(begin_end[0]) + '-' + str(begin_end[1]) + ' (' +  color + ')'\n",
    "    \n",
    "    lg1 = LayerGroup(name='Birth places ' + name_part, layers=(markers))\n",
    "    # lg2 = MarkerCluster(name='Clusters' + name_part, markers=markers)\n",
    "\n",
    "    m.add_layer(lg1)\n",
    "    # m.add_layer(lg2)\n",
    "    \n",
    "    control = LayersControl(name='layCont', position='topright')\n",
    "    m.add_control(control)\n",
    "    return n_iterations\n"
   ]
  },
  {
   "cell_type": "code",
   "execution_count": 52,
   "id": "exclusive-cameroon",
   "metadata": {},
   "outputs": [
    {
     "name": "stdout",
     "output_type": "stream",
     "text": [
      "203\n"
     ]
    }
   ],
   "source": [
    "df_year_set = sorted(list(set(df_lnu['birth_year'].astype(int))))\n",
    "print(len(df_year_set))\n",
    "min_y = min(df_year_set)\n",
    "max_y = max(df_year_set)\n",
    "i = 0\n",
    "srs = SelectionRangeSlider(\n",
    "    options=df_year_set,\n",
    "    index=(0, len(df_year_set)-1), # -1\n",
    "    description='Years', \n",
    "    continous_update=False, \n",
    "    layout= Layout(width='90%')\n",
    "    # , disabled=False\n",
    ")\n"
   ]
  },
  {
   "cell_type": "code",
   "execution_count": 53,
   "id": "powered-stupid",
   "metadata": {
    "tags": []
   },
   "outputs": [
    {
     "data": {
      "application/vnd.jupyter.widget-view+json": {
       "model_id": "e108172227374eb09324618fb90b5e27",
       "version_major": 2,
       "version_minor": 0
      },
      "text/plain": [
       "Map(center=[45, 15], controls=(AttributionControl(options=['position', 'prefix'], position='bottomright'), Wid…"
      ]
     },
     "metadata": {},
     "output_type": "display_data"
    }
   ],
   "source": [
    "watercolor = basemap_to_tiles(basemaps.Stamen.Watercolor)\n",
    "open_street_map = basemap_to_tiles(basemaps.OpenStreetMap.Mapnik)\n",
    "\n",
    "## https://ipywidgets.readthedocs.io/en/latest/examples/Widget%20Styling.html\n",
    "m = Map(layers=(watercolor,open_street_map), center=(45, 15), layout=Layout(width='100%', height='600px'),\\\n",
    "        zoom_control=False \n",
    "       )\n",
    "\n",
    "zoom_slider = IntSlider(description='Zoom level:', min=0, max=15, value=2)\n",
    "jslink((zoom_slider, 'value'), (m, 'zoom'))\n",
    "widget_control1 = WidgetControl(widget=zoom_slider, position='bottomright')\n",
    "m.add_control(widget_control1)\n",
    "\n",
    "m\n",
    "\n"
   ]
  },
  {
   "cell_type": "code",
   "execution_count": 54,
   "id": "stable-seeker",
   "metadata": {
    "tags": []
   },
   "outputs": [
    {
     "data": {
      "application/vnd.jupyter.widget-view+json": {
       "model_id": "056755b041084e24929cad8f34ba6a88",
       "version_major": 2,
       "version_minor": 0
      },
      "text/plain": [
       "interactive(children=(SelectionRangeSlider(description='Years', index=(0, 202), layout=Layout(width='90%'), op…"
      ]
     },
     "metadata": {},
     "output_type": "display_data"
    }
   ],
   "source": [
    "### https://ipywidgets.readthedocs.io/en/latest/examples/Using%20Interact.html\n",
    "n_iterations = 0\n",
    "colors = ['blue', 'red', 'black', 'purple', 'yellow' ]\n",
    "\n",
    "a = interactive(update_layer, {'manual':True}, m = fixed(m), color = colors, begin_end = srs);\n",
    "display(a)"
   ]
  },
  {
   "cell_type": "code",
   "execution_count": 72,
   "id": "moderate-liverpool",
   "metadata": {},
   "outputs": [],
   "source": [
    "### Seule la carte est enregistrée, pas les points\n",
    "# m.save('maps/birth_place_years.html', title='Birth places')"
   ]
  },
  {
   "cell_type": "markdown",
   "id": "thermal-moldova",
   "metadata": {},
   "source": [
    "### Explorer la distribution des naissances dans le temps pour visualiser les générations (ou sur la carte"
   ]
  },
  {
   "cell_type": "code",
   "execution_count": 341,
   "id": "noted-mounting",
   "metadata": {},
   "outputs": [
    {
     "data": {
      "text/plain": [
       "(1771, 2000)"
      ]
     },
     "execution_count": 341,
     "metadata": {},
     "output_type": "execute_result"
    }
   ],
   "source": [
    "min(df_lnu['birth_year']),max(df_lnu['birth_year'])"
   ]
  },
  {
   "cell_type": "code",
   "execution_count": 358,
   "id": "indonesian-preference",
   "metadata": {},
   "outputs": [
    {
     "data": {
      "text/plain": [
       "[1981, 1991, 2001]"
      ]
     },
     "execution_count": 358,
     "metadata": {},
     "output_type": "execute_result"
    }
   ],
   "source": [
    "y10_list = pd.RangeIndex(start=min(df_lnu['birth_year']), stop=max(df_lnu['birth_year'])+2, step=10).to_list()\n",
    "y10_list[-3:]"
   ]
  },
  {
   "cell_type": "code",
   "execution_count": 359,
   "id": "accessory-school",
   "metadata": {},
   "outputs": [
    {
     "data": {
      "text/html": [
       "<div>\n",
       "<style scoped>\n",
       "    .dataframe tbody tr th:only-of-type {\n",
       "        vertical-align: middle;\n",
       "    }\n",
       "\n",
       "    .dataframe tbody tr th {\n",
       "        vertical-align: top;\n",
       "    }\n",
       "\n",
       "    .dataframe thead th {\n",
       "        text-align: right;\n",
       "    }\n",
       "</style>\n",
       "<table border=\"1\" class=\"dataframe\">\n",
       "  <thead>\n",
       "    <tr style=\"text-align: right;\">\n",
       "      <th></th>\n",
       "      <th>uri_entity</th>\n",
       "      <th>place_name</th>\n",
       "      <th>place_type</th>\n",
       "      <th>long</th>\n",
       "      <th>lat</th>\n",
       "      <th>birth_year</th>\n",
       "      <th>person</th>\n",
       "      <th>concat_person</th>\n",
       "      <th>decennie</th>\n",
       "    </tr>\n",
       "  </thead>\n",
       "  <tbody>\n",
       "    <tr>\n",
       "      <th>0</th>\n",
       "      <td>http://dbpedia.org/resource/A._C._Cuza</td>\n",
       "      <td>Iași</td>\n",
       "      <td>AdministrativeRegion</td>\n",
       "      <td>27.5903</td>\n",
       "      <td>47.1569</td>\n",
       "      <td>1857</td>\n",
       "      <td>A. C. Cuza</td>\n",
       "      <td>http://dbpedia.org/resource/A._C._Cuza|A. C. C...</td>\n",
       "      <td>1851-1861</td>\n",
       "    </tr>\n",
       "    <tr>\n",
       "      <th>1</th>\n",
       "      <td>http://dbpedia.org/resource/A._K._Shiva_Kumar</td>\n",
       "      <td>Chennai</td>\n",
       "      <td>City</td>\n",
       "      <td>80.275</td>\n",
       "      <td>13.0827</td>\n",
       "      <td>1956</td>\n",
       "      <td>A. K. Shiva Kumar</td>\n",
       "      <td>http://dbpedia.org/resource/A._K._Shiva_Kumar|...</td>\n",
       "      <td>1951-1961</td>\n",
       "    </tr>\n",
       "    <tr>\n",
       "      <th>2</th>\n",
       "      <td>http://dbpedia.org/resource/Aaron_Director</td>\n",
       "      <td>Staryi Chortoryisk</td>\n",
       "      <td>Village</td>\n",
       "      <td>25.8825</td>\n",
       "      <td>51.2242</td>\n",
       "      <td>1901</td>\n",
       "      <td>Aaron Director</td>\n",
       "      <td>http://dbpedia.org/resource/Aaron_Director|Aar...</td>\n",
       "      <td>1901-1911</td>\n",
       "    </tr>\n",
       "    <tr>\n",
       "      <th>3</th>\n",
       "      <td>http://dbpedia.org/resource/Aat_van_Rhijn</td>\n",
       "      <td>Groningen</td>\n",
       "      <td>City</td>\n",
       "      <td>6.56667</td>\n",
       "      <td>53.2167</td>\n",
       "      <td>1892</td>\n",
       "      <td>Aat van Rhijn</td>\n",
       "      <td>http://dbpedia.org/resource/Aat_van_Rhijn|Aat ...</td>\n",
       "      <td>1891-1901</td>\n",
       "    </tr>\n",
       "    <tr>\n",
       "      <th>4</th>\n",
       "      <td>http://dbpedia.org/resource/Abass_Bundu</td>\n",
       "      <td>Gbinti</td>\n",
       "      <td></td>\n",
       "      <td>-12.6</td>\n",
       "      <td>8.96667</td>\n",
       "      <td>1948</td>\n",
       "      <td>Abass Bundu</td>\n",
       "      <td>http://dbpedia.org/resource/Abass_Bundu|Abass ...</td>\n",
       "      <td>1941-1951</td>\n",
       "    </tr>\n",
       "  </tbody>\n",
       "</table>\n",
       "</div>"
      ],
      "text/plain": [
       "                                      uri_entity          place_name  \\\n",
       "0         http://dbpedia.org/resource/A._C._Cuza                Iași   \n",
       "1  http://dbpedia.org/resource/A._K._Shiva_Kumar             Chennai   \n",
       "2     http://dbpedia.org/resource/Aaron_Director  Staryi Chortoryisk   \n",
       "3      http://dbpedia.org/resource/Aat_van_Rhijn           Groningen   \n",
       "4        http://dbpedia.org/resource/Abass_Bundu              Gbinti   \n",
       "\n",
       "             place_type     long      lat  birth_year             person  \\\n",
       "0  AdministrativeRegion  27.5903  47.1569        1857         A. C. Cuza   \n",
       "1                  City   80.275  13.0827        1956  A. K. Shiva Kumar   \n",
       "2               Village  25.8825  51.2242        1901     Aaron Director   \n",
       "3                  City  6.56667  53.2167        1892      Aat van Rhijn   \n",
       "4                          -12.6  8.96667        1948        Abass Bundu   \n",
       "\n",
       "                                       concat_person   decennie  \n",
       "0  http://dbpedia.org/resource/A._C._Cuza|A. C. C...  1851-1861  \n",
       "1  http://dbpedia.org/resource/A._K._Shiva_Kumar|...  1951-1961  \n",
       "2  http://dbpedia.org/resource/Aaron_Director|Aar...  1901-1911  \n",
       "3  http://dbpedia.org/resource/Aat_van_Rhijn|Aat ...  1891-1901  \n",
       "4  http://dbpedia.org/resource/Abass_Bundu|Abass ...  1941-1951  "
      ]
     },
     "execution_count": 359,
     "metadata": {},
     "output_type": "execute_result"
    }
   ],
   "source": [
    "### codeer les années les regroupant par décennies : fonction cut\n",
    "\n",
    "df_lnu['decennie'] = pd.cut(df_lnu['birth_year'], y10_list, right=False)\n",
    "df_lnu['decennie'] = df_lnu['decennie'].apply(lambda row : str(int(row.left))+'-'+str(int(row.right)))\n",
    "df_lnu.head()"
   ]
  },
  {
   "cell_type": "code",
   "execution_count": 360,
   "id": "intelligent-earthquake",
   "metadata": {
    "tags": []
   },
   "outputs": [
    {
     "data": {
      "text/plain": [
       "decennie\n",
       "1951-1961    492\n",
       "1961-1971    344\n",
       "1971-1981    121\n",
       "1981-1991     21\n",
       "1991-2001    203\n",
       "dtype: int64"
      ]
     },
     "execution_count": 360,
     "metadata": {},
     "output_type": "execute_result"
    }
   ],
   "source": [
    "### Regrouper par continent et compter avec la fonction Pandas 'groupby'\n",
    "gb_decennie = df_lnu.groupby('decennie').size()\n",
    "gb_decennie[-5:]"
   ]
  },
  {
   "cell_type": "code",
   "execution_count": 361,
   "id": "functioning-scope",
   "metadata": {},
   "outputs": [
    {
     "name": "stdout",
     "output_type": "stream",
     "text": [
      "['1771-1781', '1781-1791', '1791-1801', '1801-1811', '1811-1821']\n"
     ]
    },
    {
     "data": {
      "text/plain": [
       "<BarContainer object of 23 artists>"
      ]
     },
     "execution_count": 361,
     "metadata": {},
     "output_type": "execute_result"
    },
    {
     "data": {
      "image/png": "[encoded data removed]",
      "text/plain": [
       "<Figure size 1080x504 with 1 Axes>"
      ]
     },
     "metadata": {
      "needs_background": "light"
     },
     "output_type": "display_data"
    }
   ],
   "source": [
    "### Distribution des naissances par décennie\n",
    "\n",
    "objects = [l for l in gb_decennie.index]\n",
    "eff = [l for l in gb_decennie]\n",
    "\n",
    "print(objects[:5])\n",
    "plt.figure(figsize=(15,7))\n",
    "plt.xticks(rotation=45)\n",
    "plt.bar(objects, eff)"
   ]
  },
  {
   "cell_type": "code",
   "execution_count": null,
   "id": "egyptian-gauge",
   "metadata": {},
   "outputs": [],
   "source": []
  }
 ],
 "metadata": {
  "kernelspec": {
   "display_name": "Python 3",
   "language": "python",
   "name": "python3"
  },
  "language_info": {
   "codemirror_mode": {
    "name": "ipython",
    "version": 3
   },
   "file_extension": ".py",
   "mimetype": "text/x-python",
   "name": "python",
   "nbconvert_exporter": "python",
   "pygments_lexer": "ipython3",
   "version": "3.8.8"
  },
  "toc-autonumbering": false
 },
 "nbformat": 4,
 "nbformat_minor": 5
}
